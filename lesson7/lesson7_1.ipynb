{
 "cells": [
  {
   "cell_type": "code",
   "execution_count": 1,
   "id": "866321bb",
   "metadata": {},
   "outputs": [
    {
     "name": "stdout",
     "output_type": "stream",
     "text": [
      "您的BMI:23.0，體重適中\n"
     ]
    }
   ],
   "source": [
    "hight:float = float(input(\"請輸入身高(公分):\"))\n",
    "weight:float = float(input(\"請輸入體重:\"))\n",
    "\n",
    "BMI = round((weight/(hight/100)**2),ndigits=1)\n",
    "\n",
    "if BMI < 18.5:\n",
    "  message:str = \"體重過輕\"\n",
    "elif BMI < 24:\n",
    "  message:str = \"體重適中\"\n",
    "else:\n",
    "  if BMI < 27:\n",
    "    message:str = \"體重過重\"\n",
    "  elif BMI < 30:\n",
    "    message:str = \"輕度肥胖\"\n",
    "  elif BMI < 35:\n",
    "    message:str = \"中度肥胖\"\n",
    "  else:\n",
    "    message:str = \"重度肥胖\"\n",
    "\n",
    "print(f\"您的BMI:{BMI}，{message}\")"
   ]
  },
  {
   "cell_type": "code",
   "execution_count": 3,
   "id": "7cdcb653",
   "metadata": {},
   "outputs": [
    {
     "data": {
      "text/plain": [
       "{'__name__': '__main__',\n",
       " '__doc__': 'Automatically created module for IPython interactive environment',\n",
       " '__package__': None,\n",
       " '__loader__': None,\n",
       " '__spec__': None,\n",
       " '__builtin__': <module 'builtins' (built-in)>,\n",
       " '__builtins__': <module 'builtins' (built-in)>,\n",
       " '_ih': ['',\n",
       "  'hight:float = float(input(\"請輸入身高(公分):\"))\\nweight:float = float(input(\"請輸入體重:\"))\\n\\nBMI = round((weight/(hight/100)**2),ndigits=1)\\n\\nif BMI < 18.5:\\n  message:str = \"體重過輕\"\\nelif BMI < 24:\\n  message:str = \"體重適中\"\\nelse:\\n  if BMI < 27:\\n    message:str = \"體重過重\"\\n  elif BMI < 30:\\n    message:str = \"輕度肥胖\"\\n  elif BMI < 35:\\n    message:str = \"中度肥胖\"\\n  else:\\n    message:str = \"重度肥胖\"\\n\\nprint(f\"您的BMI:{BMI}，{message}\")',\n",
       "  'vars',\n",
       "  'vars()'],\n",
       " '_oh': {2: <function vars>},\n",
       " '_dh': [PosixPath('/workspaces/250413/lesson7')],\n",
       " 'In': ['',\n",
       "  'hight:float = float(input(\"請輸入身高(公分):\"))\\nweight:float = float(input(\"請輸入體重:\"))\\n\\nBMI = round((weight/(hight/100)**2),ndigits=1)\\n\\nif BMI < 18.5:\\n  message:str = \"體重過輕\"\\nelif BMI < 24:\\n  message:str = \"體重適中\"\\nelse:\\n  if BMI < 27:\\n    message:str = \"體重過重\"\\n  elif BMI < 30:\\n    message:str = \"輕度肥胖\"\\n  elif BMI < 35:\\n    message:str = \"中度肥胖\"\\n  else:\\n    message:str = \"重度肥胖\"\\n\\nprint(f\"您的BMI:{BMI}，{message}\")',\n",
       "  'vars',\n",
       "  'vars()'],\n",
       " 'Out': {2: <function vars>},\n",
       " 'get_ipython': <bound method InteractiveShell.get_ipython of <ipykernel.zmqshell.ZMQInteractiveShell object at 0x7f17105bcf50>>,\n",
       " 'exit': <IPython.core.autocall.ZMQExitAutocall at 0x7f17105bc260>,\n",
       " 'quit': <IPython.core.autocall.ZMQExitAutocall at 0x7f17105bc260>,\n",
       " 'open': <function _io.open(file, mode='r', buffering=-1, encoding=None, errors=None, newline=None, closefd=True, opener=None)>,\n",
       " '_': <function vars>,\n",
       " '__': '',\n",
       " '___': '',\n",
       " '__vsc_ipynb_file__': '/workspaces/250413/lesson7/lesson7_1.ipynb',\n",
       " '_i': 'vars',\n",
       " '_ii': 'hight:float = float(input(\"請輸入身高(公分):\"))\\nweight:float = float(input(\"請輸入體重:\"))\\n\\nBMI = round((weight/(hight/100)**2),ndigits=1)\\n\\nif BMI < 18.5:\\n  message:str = \"體重過輕\"\\nelif BMI < 24:\\n  message:str = \"體重適中\"\\nelse:\\n  if BMI < 27:\\n    message:str = \"體重過重\"\\n  elif BMI < 30:\\n    message:str = \"輕度肥胖\"\\n  elif BMI < 35:\\n    message:str = \"中度肥胖\"\\n  else:\\n    message:str = \"重度肥胖\"\\n\\nprint(f\"您的BMI:{BMI}，{message}\")',\n",
       " '_iii': '',\n",
       " '_i1': 'hight:float = float(input(\"請輸入身高(公分):\"))\\nweight:float = float(input(\"請輸入體重:\"))\\n\\nBMI = round((weight/(hight/100)**2),ndigits=1)\\n\\nif BMI < 18.5:\\n  message:str = \"體重過輕\"\\nelif BMI < 24:\\n  message:str = \"體重適中\"\\nelse:\\n  if BMI < 27:\\n    message:str = \"體重過重\"\\n  elif BMI < 30:\\n    message:str = \"輕度肥胖\"\\n  elif BMI < 35:\\n    message:str = \"中度肥胖\"\\n  else:\\n    message:str = \"重度肥胖\"\\n\\nprint(f\"您的BMI:{BMI}，{message}\")',\n",
       " '__annotations__': {'hight': float, 'weight': float, 'message': str},\n",
       " 'hight': 156.0,\n",
       " 'weight': 56.0,\n",
       " 'BMI': 23.0,\n",
       " 'message': '體重適中',\n",
       " '_i2': 'vars',\n",
       " '_2': <function vars>,\n",
       " '_i3': 'vars()'}"
      ]
     },
     "execution_count": 3,
     "metadata": {},
     "output_type": "execute_result"
    }
   ],
   "source": [
    "vars()"
   ]
  }
 ],
 "metadata": {
  "kernelspec": {
   "display_name": "base",
   "language": "python",
   "name": "python3"
  },
  "language_info": {
   "codemirror_mode": {
    "name": "ipython",
    "version": 3
   },
   "file_extension": ".py",
   "mimetype": "text/x-python",
   "name": "python",
   "nbconvert_exporter": "python",
   "pygments_lexer": "ipython3",
   "version": "3.12.7"
  }
 },
 "nbformat": 4,
 "nbformat_minor": 5
}
