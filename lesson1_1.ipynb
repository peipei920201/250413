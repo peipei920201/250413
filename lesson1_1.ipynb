{
  "nbformat": 4,
  "nbformat_minor": 0,
  "metadata": {
    "colab": {
      "provenance": [],
      "authorship_tag": "ABX9TyN9OyoMci7bjmvVHu9FIzw/",
      "include_colab_link": true
    },
    "kernelspec": {
      "name": "python3",
      "display_name": "Python 3"
    },
    "language_info": {
      "name": "python"
    }
  },
  "cells": [
    {
      "cell_type": "markdown",
      "metadata": {
        "id": "view-in-github",
        "colab_type": "text"
      },
      "source": [
        "<a href=\"https://colab.research.google.com/github/peipei920201/250413/blob/main/lesson1_1.ipynb\" target=\"_parent\"><img src=\"https://colab.research.google.com/assets/colab-badge.svg\" alt=\"Open In Colab\"/></a>"
      ]
    },
    {
      "cell_type": "code",
      "execution_count": 1,
      "metadata": {
        "colab": {
          "base_uri": "https://localhost:8080/"
        },
        "id": "V3fQw6gyz7T3",
        "outputId": "f4efde04-f71a-4319-c6cb-64b8b943c73a"
      },
      "outputs": [
        {
          "output_type": "stream",
          "name": "stdout",
          "text": [
            "Hello World!\n"
          ]
        }
      ],
      "source": [
        "print(\"Hello World!\")"
      ]
    },
    {
      "cell_type": "markdown",
      "source": [
        "### python資料型別\n",
        "- int\n",
        "- float\n",
        "- str\n",
        "- bool\n"
      ],
      "metadata": {
        "id": "pFQDq2NqDTmz"
      }
    },
    {
      "cell_type": "code",
      "source": [
        "10 #整數int\n",
        "10.0 #浮點數float\n",
        "\"10.0\" #字串str\n",
        "'10.0' #字串str\n",
        "True #布林值bool\n",
        "False #布林值bool"
      ],
      "metadata": {
        "colab": {
          "base_uri": "https://localhost:8080/"
        },
        "id": "yP67thrYD2Xi",
        "outputId": "c04a61ed-9d18-4491-f1e5-709f0212d86f"
      },
      "execution_count": 3,
      "outputs": [
        {
          "output_type": "execute_result",
          "data": {
            "text/plain": [
              "False"
            ]
          },
          "metadata": {},
          "execution_count": 3
        }
      ]
    }
  ]
}