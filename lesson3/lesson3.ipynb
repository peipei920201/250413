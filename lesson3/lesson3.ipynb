{
 "cells": [
  {
   "cell_type": "markdown",
   "id": "f4999265",
   "metadata": {},
   "source": [
<<<<<<< HEAD
    "## 第三節的python"
=======
    "## 第三節python"
>>>>>>> 105d64d (建立lesson3)
   ]
  },
  {
   "cell_type": "code",
<<<<<<< HEAD
   "execution_count": null,
=======
   "execution_count": 9,
>>>>>>> 105d64d (建立lesson3)
   "id": "a39e5a98",
   "metadata": {},
   "outputs": [
    {
     "name": "stdout",
     "output_type": "stream",
     "text": [
      "<class 'int'>\n",
      "<class 'float'>\n",
      "345.811 101 34926.911\n",
      "寬:345.811高:101面積:34926.91\n"
     ]
    }
   ],
   "source": [
    "width = 345.811\n",
    "height = 101\n",
    "print(type(height))\n",
    "area = width * height\n",
    "print(type(area))\n",
    "print(width,height,area)\n",
<<<<<<< HEAD
    "print(f\"寬:{width}高:{height}面積:{round(area,ndigits=2)}\")\n"
=======
    "print(f\"寬:{width}高:{height}面積:{round(area,ndigits=2)}\")"
>>>>>>> 105d64d (建立lesson3)
   ]
  }
 ],
 "metadata": {
  "kernelspec": {
   "display_name": "base",
   "language": "python",
   "name": "python3"
  },
  "language_info": {
   "codemirror_mode": {
    "name": "ipython",
    "version": 3
   },
   "file_extension": ".py",
   "mimetype": "text/x-python",
   "name": "python",
   "nbconvert_exporter": "python",
   "pygments_lexer": "ipython3",
   "version": "3.12.7"
  }
 },
 "nbformat": 4,
 "nbformat_minor": 5
}
