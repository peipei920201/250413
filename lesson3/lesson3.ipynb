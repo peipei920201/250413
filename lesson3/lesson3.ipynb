{
 "cells": [
  {
   "cell_type": "markdown",
   "id": "5cf20ede",
   "metadata": {},
   "source": [
    "## 第三節python"
   ]
  },
  {
   "cell_type": "code",
   "execution_count": null,
   "id": "e00f3134",
   "metadata": {},
   "outputs": [],
   "source": [
    "width = 345.811\n",
    "height = 101\n",
    "print(type(height))\n",
    "area = width * height\n",
    "print(type(area))\n",
    "print(width,height,area)\n",
    "print(f\"寬:{width}高:{height}面積:{round(area,ndigits=2)}\")"
   ]
  },
  {
   "cell_type": "markdown",
   "id": "256b9279",
   "metadata": {},
   "source": []
  },
  {
   "cell_type": "code",
   "execution_count": null,
   "id": "7e534aea",
   "metadata": {},
   "outputs": [
    {
     "data": {
      "text/plain": [
       "float"
      ]
     },
     "execution_count": 5,
     "metadata": {},
     "output_type": "execute_result"
    }
   ],
   "source": [
    " width = input(\"請輸入矩形的寬\")\n",
    " type(width)\n",
    "width_value = float(width)\n",
    "type(width_value)"
   ]
  },
  {
   "cell_type": "code",
   "execution_count": 7,
   "id": "f4230f92",
   "metadata": {},
   "outputs": [
    {
     "name": "stdout",
     "output_type": "stream",
     "text": [
      "寬:33.0高:23.3面積:768.9\n"
     ]
    }
   ],
   "source": [
    " width = float(input(\"請輸入矩形的寬\"))\n",
    " height = float(input(\"請輸入矩形的高\"))\n",
    " area = width * height\n",
    " print(f\"寬:{width}高:{height}面積:{round(area,ndigits=2)}\")"
   ]
  }
 ],
 "metadata": {
  "kernelspec": {
   "display_name": "base",
   "language": "python",
   "name": "python3"
  },
  "language_info": {
   "codemirror_mode": {
    "name": "ipython",
    "version": 3
   },
   "file_extension": ".py",
   "mimetype": "text/x-python",
   "name": "python",
   "nbconvert_exporter": "python",
   "pygments_lexer": "ipython3",
   "version": "3.12.7"
  }
 },
 "nbformat": 4,
 "nbformat_minor": 5
}
