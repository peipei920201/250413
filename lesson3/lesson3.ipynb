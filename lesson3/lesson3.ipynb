{
 "cells": [
  {
   "cell_type": "code",
   "execution_count": null,
   "id": "e00f3134",
   "metadata": {},
   "outputs": [],
   "source": [
    "width = 345.811\n",
    "height = 101\n",
    "print(type(height))\n",
    "area = width * height\n",
    "print(type(area))\n",
    "print(width,height,area)\n",
    "print(f\"寬:{width}高:{height}面積:{round(area,ndigits=2)}\")"
   ]
  }
 ],
 "metadata": {
  "kernelspec": {
   "display_name": "base",
   "language": "python",
   "name": "python3"
  },
  "language_info": {
   "name": "python",
   "version": "3.12.7"
  }
 },
 "nbformat": 4,
 "nbformat_minor": 5
}
