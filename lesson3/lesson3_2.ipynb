{
 "cells": [
  {
   "cell_type": "markdown",
   "id": "2dea0a8b",
   "metadata": {},
   "source": [
    "##### 複合指定運算子"
   ]
  },
  {
   "cell_type": "code",
   "execution_count": 1,
   "id": "372b1732",
   "metadata": {},
   "outputs": [
    {
     "name": "stdout",
     "output_type": "stream",
     "text": [
      "10\n"
     ]
    }
   ],
   "source": [
    "n = 10\n",
    "n+1\n",
    "print(n)"
   ]
  },
  {
   "cell_type": "code",
   "execution_count": null,
   "id": "8e39f0e5",
   "metadata": {},
   "outputs": [
    {
     "name": "stdout",
     "output_type": "stream",
     "text": [
      "12\n"
     ]
    }
   ],
   "source": [
    "n = 10\n",
    "n = n+1\n",
    "print(n)"
   ]
  },
  {
   "cell_type": "code",
   "execution_count": 4,
   "id": "35c68db6",
   "metadata": {},
   "outputs": [
    {
     "name": "stdout",
     "output_type": "stream",
     "text": [
      "100\n"
     ]
    }
   ],
   "source": [
    "n = 10\n",
    "n = n*10\n",
    "print(n)"
   ]
  },
  {
   "cell_type": "markdown",
   "id": "14d5726b",
   "metadata": {},
   "source": [
    "##### 以複合指定運算子，輸入三個數並顯示加總"
   ]
  },
  {
   "cell_type": "code",
   "execution_count": null,
   "id": "a8fa619c",
   "metadata": {},
   "outputs": [
    {
     "name": "stdout",
     "output_type": "stream",
     "text": [
      "總和:80.3\n"
     ]
    }
   ],
   "source": [
    "total=0.0\n",
    "n = float(input(\"第一個數:\")) \n",
    "total += n\n",
    "n = float(input(\"第二個數:\")) \n",
    "total += n\n",
    "n = float(input(\"第三個數:\"))\n",
    "total += n\n",
    "\n",
    "print(f\"總和:{total}\")\n"
   ]
  },
  {
   "cell_type": "code",
   "execution_count": null,
   "id": "6d4955ca",
   "metadata": {},
   "outputs": [],
   "source": []
  }
 ],
 "metadata": {
  "kernelspec": {
   "display_name": "base",
   "language": "python",
   "name": "python3"
  },
  "language_info": {
   "codemirror_mode": {
    "name": "ipython",
    "version": 3
   },
   "file_extension": ".py",
   "mimetype": "text/x-python",
   "name": "python",
   "nbconvert_exporter": "python",
   "pygments_lexer": "ipython3",
   "version": "3.12.7"
  }
 },
 "nbformat": 4,
 "nbformat_minor": 5
}
