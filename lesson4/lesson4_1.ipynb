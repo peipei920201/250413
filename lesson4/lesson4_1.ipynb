{
 "cells": [
  {
   "cell_type": "markdown",
   "id": "0184d8a6",
   "metadata": {},
   "source": [
    "#### 計算三角形的角度"
   ]
  },
  {
   "cell_type": "code",
   "execution_count": 10,
   "id": "e3d1ddaa",
   "metadata": {},
   "outputs": [
    {
     "name": "stdout",
     "output_type": "stream",
     "text": [
      "徑度:0.5235987755982989\n",
      "角度:30.0\n"
     ]
    }
   ],
   "source": [
    "import math\n",
    "side = float(input(\"請輸入對邊:\"))\n",
    "another_side = float(input(\"請輸入斜邊:\"))\n",
    "radians = math.asin(side/another_side)\n",
    "print(f\"徑度:{radians}\")\n",
    "print(f\"角度:{round(math.degrees(radians),ndigits=2)}\")"
   ]
  },
  {
   "cell_type": "markdown",
   "id": "6de0934a",
   "metadata": {},
   "source": [
    "#### tuple => (1,5,9)"
   ]
  },
  {
   "cell_type": "code",
   "execution_count": null,
   "id": "cea2f327",
   "metadata": {},
   "outputs": [
    {
     "data": {
      "text/plain": [
       "69"
      ]
     },
     "execution_count": 13,
     "metadata": {},
     "output_type": "execute_result"
    }
   ],
   "source": [
    "import statistics\n",
    "\n",
    "average = statistics.mean((59,79))"
   ]
  },
  {
   "cell_type": "markdown",
   "id": "117c8ff9",
   "metadata": {},
   "source": [
    "### 大學統計 標準差(計算數值間的距離)"
   ]
  },
  {
   "cell_type": "code",
   "execution_count": null,
   "id": "2529a903",
   "metadata": {},
   "outputs": [
    {
     "data": {
      "text/plain": [
       "14.142135623730951"
      ]
     },
     "execution_count": 16,
     "metadata": {},
     "output_type": "execute_result"
    }
   ],
   "source": [
    "import statistics\n",
    "\n",
    "std = statistics.stdev((59,79))"
   ]
  },
  {
   "cell_type": "code",
   "execution_count": null,
   "id": "dece02f1",
   "metadata": {},
   "outputs": [
    {
     "data": {
      "text/plain": [
       "2.0"
      ]
     },
     "execution_count": 20,
     "metadata": {},
     "output_type": "execute_result"
    }
   ],
   "source": [
    "import statistics as stat #簡略\n",
    "\n",
    "stat.stdev((1,3,5))"
   ]
  },
  {
   "cell_type": "code",
   "execution_count": 17,
   "id": "ff59ea12",
   "metadata": {},
   "outputs": [
    {
     "name": "stdout",
     "output_type": "stream",
     "text": [
      "23.0 36.0 59.0\n",
      "平均:39.33\n",
      "標準差:18.23\n"
     ]
    }
   ],
   "source": [
    "import statistics\n",
    "n1 = float(input(\"請輸入第一個數:\"))\n",
    "n2 = float(input(\"請輸入第二個數:\"))\n",
    "n3 = float(input(\"請輸入第三個數:\"))\n",
    "average = statistics.mean((n1,n2,n3))\n",
    "std = statistics.stdev((n1,n2,n3))\n",
    "print(n1,n2,n3)\n",
    "print(f\"平均:{average:.2f}\")\n",
    "print(f\"標準差:{std:.2f}\")"
   ]
  },
  {
   "cell_type": "code",
   "execution_count": null,
   "id": "f19af31c",
   "metadata": {},
   "outputs": [],
   "source": []
  }
 ],
 "metadata": {
  "kernelspec": {
   "display_name": "base",
   "language": "python",
   "name": "python3"
  },
  "language_info": {
   "codemirror_mode": {
    "name": "ipython",
    "version": 3
   },
   "file_extension": ".py",
   "mimetype": "text/x-python",
   "name": "python",
   "nbconvert_exporter": "python",
   "pygments_lexer": "ipython3",
   "version": "3.12.7"
  }
 },
 "nbformat": 4,
 "nbformat_minor": 5
}
