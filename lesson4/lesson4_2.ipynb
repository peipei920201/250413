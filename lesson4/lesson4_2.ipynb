{
 "cells": [
  {
   "cell_type": "markdown",
   "id": "8b026b9c",
   "metadata": {},
   "source": [
    "#### if bool"
   ]
  },
  {
   "cell_type": "code",
   "execution_count": null,
   "id": "b05e8068",
   "metadata": {},
   "outputs": [
    {
     "name": "stdout",
     "output_type": "stream",
     "text": [
      "這是單項選擇\n",
      "True的程式區塊\n"
     ]
    }
   ],
   "source": [
    "if True:\n",
    "    print(\"這是單項選擇\")\n",
    "    print(\"True的程式區塊\")\n"
   ]
  },
  {
   "cell_type": "code",
   "execution_count": 3,
   "id": "53e52edc",
   "metadata": {},
   "outputs": [
    {
     "name": "stdout",
     "output_type": "stream",
     "text": [
      "這是雙項選擇\n",
      "True的程式區塊\n"
     ]
    }
   ],
   "source": [
    "if False:\n",
    "    print(\"這是雙項選擇\")\n",
    "    print(\"False的程式區塊\")\n",
    "else:\n",
    "    print(\"這是雙項選擇\")\n",
    "    print(\"True的程式區塊\")"
   ]
  },
  {
   "cell_type": "markdown",
   "id": "2527d0a8",
   "metadata": {},
   "source": [
    "#### 比較運算子"
   ]
  },
  {
   "cell_type": "code",
   "execution_count": null,
   "id": "7822a5eb",
   "metadata": {},
   "outputs": [
    {
     "name": "stdout",
     "output_type": "stream",
     "text": [
      "True\n",
      "True\n",
      "False\n"
     ]
    }
   ],
   "source": [
    "print(5>3)\n",
    "print(20==20)\n",
    "print(20!=20) #不等於"
   ]
  },
  {
   "cell_type": "code",
   "execution_count": 5,
   "id": "396b1200",
   "metadata": {},
   "outputs": [
    {
     "name": "stdout",
     "output_type": "stream",
     "text": [
      "未成年\n"
     ]
    }
   ],
   "source": [
    "age = int(input(\"請輸入年齡:\"))\n",
    "if age < 18:\n",
    "    print(\"未成年\")\n",
    "else:\n",
    "    print(\"成年\")"
   ]
  },
  {
   "cell_type": "markdown",
   "id": "ac3f8a4e",
   "metadata": {},
   "source": [
    "### 巢狀判斷"
   ]
  },
  {
   "cell_type": "code",
   "execution_count": 2,
   "id": "0d0a131f",
   "metadata": {},
   "outputs": [
    {
     "name": "stdout",
     "output_type": "stream",
     "text": [
      "分數:300\n"
     ]
    }
   ],
   "source": [
    "scores = int(input(\"請輸入學生分數(最高300分):\"))\n",
    "is_add = input(\"學生是否符合加分條件?(y,n)\")\n",
    "if is_add == \"y\":\n",
    "    scores *= 1.05\n",
    "    if scores > 300:\n",
    "        scores = 300\n",
    "print(f\"分數:{round(scores)}\")"
   ]
  },
  {
   "cell_type": "code",
   "execution_count": 12,
   "id": "cf35a902",
   "metadata": {},
   "outputs": [
    {
     "name": "stdout",
     "output_type": "stream",
     "text": [
      "發生錯誤\n",
      "功能結束\n"
     ]
    }
   ],
   "source": [
    "try:\n",
    "    scores = int(input(\"請輸入學生分數(最高300分):\"))\n",
    "    is_add = input(\"學生是否符合加分條件?(y,n)\")\n",
    "    if is_add == \"y\":\n",
    "        scores *= 1.05\n",
    "        if scores > 300:\n",
    "            scores = 300\n",
    "    print(f\"分數:{round(scores)}\")\n",
    "except:\n",
    "    print(\"發生錯誤\")\n",
    "\n",
    "print(\"功能結束\")"
   ]
  },
  {
   "cell_type": "markdown",
   "id": "f748ee28",
   "metadata": {},
   "source": [
    "處理raise Exception\n",
    "* try: except:處理錯誤"
   ]
  },
  {
   "cell_type": "code",
   "execution_count": 1,
   "id": "765a756c",
   "metadata": {},
   "outputs": [
    {
     "name": "stdout",
     "output_type": "stream",
     "text": [
      "發生錯誤\n"
     ]
    }
   ],
   "source": [
    "try:\n",
    "    25/0\n",
    "except:\n",
    "    print(\"發生錯誤\")"
   ]
  },
  {
   "cell_type": "markdown",
   "id": "6b0f1f7f",
   "metadata": {},
   "source": [
    "**多個except**"
   ]
  },
  {
   "cell_type": "code",
   "execution_count": 9,
   "id": "523488fb",
   "metadata": {},
   "outputs": [
    {
     "name": "stdout",
     "output_type": "stream",
     "text": [
      "發生不知名的錯誤\n",
      "程式檢查結束\n"
     ]
    }
   ],
   "source": [
    "divitionBy = 1\n",
    "try:\n",
    "    print(25 / \"divitionBy\")\n",
    "except ZeroDivisionError:\n",
    "    print(\"除數不可為0\")\n",
    "except:\n",
    "    print(\"發生不知名的錯誤\")\n",
    "\n",
    "print(\"程式檢查結束\")"
   ]
  }
 ],
 "metadata": {
  "kernelspec": {
   "display_name": "base",
   "language": "python",
   "name": "python3"
  },
  "language_info": {
   "codemirror_mode": {
    "name": "ipython",
    "version": 3
   },
   "file_extension": ".py",
   "mimetype": "text/x-python",
   "name": "python",
   "nbconvert_exporter": "python",
   "pygments_lexer": "ipython3",
   "version": "3.12.7"
  }
 },
 "nbformat": 4,
 "nbformat_minor": 5
}
