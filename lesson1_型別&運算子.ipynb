{
  "cells": [
    {
      "cell_type": "markdown",
      "metadata": {
        "colab_type": "text",
        "id": "view-in-github"
      },
      "source": [
        "<a href=\"https://colab.research.google.com/github/peipei920201/250413/blob/main/lesson1_%E5%9E%8B%E5%88%A5%26%E9%81%8B%E7%AE%97%E5%AD%90.ipynb\" target=\"_parent\"><img src=\"https://colab.research.google.com/assets/colab-badge.svg\" alt=\"Open In Colab\"/></a>"
      ]
    },
    {
      "cell_type": "code",
      "execution_count": 1,
      "metadata": {
        "colab": {
          "base_uri": "https://localhost:8080/"
        },
        "id": "V3fQw6gyz7T3",
        "outputId": "f4efde04-f71a-4319-c6cb-64b8b943c73a"
      },
      "outputs": [
        {
          "name": "stdout",
          "output_type": "stream",
          "text": [
            "Hello World!\n"
          ]
        }
      ],
      "source": [
        "print(\"Hello World!\")"
      ]
    },
    {
      "cell_type": "markdown",
      "metadata": {
        "id": "pFQDq2NqDTmz"
      },
      "source": [
        "### python資料型別\n",
        "- int\n",
        "- float\n",
        "- str\n",
        "- bool\n"
      ]
    },
    {
      "cell_type": "code",
      "execution_count": 3,
      "metadata": {
        "colab": {
          "base_uri": "https://localhost:8080/"
        },
        "id": "yP67thrYD2Xi",
        "outputId": "c04a61ed-9d18-4491-f1e5-709f0212d86f"
      },
      "outputs": [
        {
          "data": {
            "text/plain": [
              "False"
            ]
          },
          "execution_count": 3,
          "metadata": {},
          "output_type": "execute_result"
        }
      ],
      "source": [
        "10 #整數int\n",
        "10.0 #浮點數float\n",
        "\"10.0\" #字串str\n",
        "'10.0' #字串str\n",
        "True #布林值bool\n",
        "False #布林值bool"
      ]
    },
    {
      "cell_type": "markdown",
      "metadata": {
        "id": "AFmvujLLRo1l"
      },
      "source": [
        "###基礎運算子"
      ]
    },
    {
      "cell_type": "code",
      "execution_count": 9,
      "metadata": {
        "colab": {
          "base_uri": "https://localhost:8080/",
          "height": 87
        },
        "id": "ERl9Q8e3Kc2t",
        "outputId": "4a33b515-32ad-4e95-cfeb-5ccb9c4d7a25"
      },
      "outputs": [
        {
          "name": "stdout",
          "output_type": "stream",
          "text": [
            "3\n",
            "3.2\n",
            "1920\n"
          ]
        },
        {
          "data": {
            "application/vnd.google.colaboratory.intrinsic+json": {
              "type": "string"
            },
            "text/plain": [
              "'1920'"
            ]
          },
          "metadata": {},
          "output_type": "display_data"
        }
      ],
      "source": [
        "print(1+2)\n",
        "print(1+2.2) #自動轉成浮點數型別\n",
        "print(\"19\"+\"20\")\n",
        "display(\"19\"+\"20\")\n",
        "#print(\"19\"+20)錯誤"
      ]
    },
    {
      "cell_type": "code",
      "execution_count": null,
      "metadata": {
        "id": "RClNEmnOREav"
      },
      "outputs": [],
      "source": [
        "5+8\n",
        "5-8\n",
        "5*8\n",
        "8/5 #浮點數除法\n",
        "8//5 #整數除法\n",
        "8%5 #餘數\n",
        "8**5 #次方"
      ]
    },
    {
      "cell_type": "code",
      "execution_count": 10,
      "metadata": {
        "colab": {
          "base_uri": "https://localhost:8080/"
        },
        "id": "zFxoCb6XQxKQ",
        "outputId": "050e0bb9-26d5-4e2d-de71-cc8341a92860"
      },
      "outputs": [
        {
          "data": {
            "text/plain": [
              "369729637649726772657187905628805440595668764281741102430259972423552570455277523421410650010128232727940978889548326540119429996769494359451621570193644014418071060667659301384999779999159200499899"
            ]
          },
          "execution_count": 10,
          "metadata": {},
          "output_type": "execute_result"
        }
      ],
      "source": [
        "99**99"
      ]
    },
    {
      "cell_type": "markdown",
      "metadata": {
        "id": "jH5X7vvzSAVT"
      },
      "source": [
        "###一個運算子一個動作\n",
        "###數學運算子有優先順序\n",
        "### **次方 > *乘號"
      ]
    },
    {
      "cell_type": "code",
      "execution_count": 11,
      "metadata": {
        "colab": {
          "base_uri": "https://localhost:8080/"
        },
        "id": "w6-g1xfNR_Nj",
        "outputId": "7fe7b973-4654-4283-d303-39f70f747ad8"
      },
      "outputs": [
        {
          "name": "stdout",
          "output_type": "stream",
          "text": [
            "10\n"
          ]
        }
      ],
      "source": [
        "print(2*(1+2)**2-2**2*2)"
      ]
    },
    {
      "cell_type": "markdown",
      "metadata": {
        "id": "zPi0Q9boUvTw"
      },
      "source": [
        "###內建的function(函式) = 標準函式庫\n",
        "###print()\n",
        "print (*object,sep='',end='\\n',file=None,flush=False)"
      ]
    },
    {
      "cell_type": "code",
      "execution_count": 20,
      "metadata": {
        "colab": {
          "base_uri": "https://localhost:8080/"
        },
        "id": "adQuAOgLWGSz",
        "outputId": "d1865678-4d10-4644-d557-f14ba6a8a0f3"
      },
      "outputs": [
        {
          "name": "stdout",
          "output_type": "stream",
          "text": [
            "15 27.0 pei True 81\n"
          ]
        },
        {
          "data": {
            "text/plain": [
              "56.7"
            ]
          },
          "execution_count": 20,
          "metadata": {},
          "output_type": "execute_result"
        }
      ],
      "source": [
        "print(15,27.0,'pei',True,3**4)\n",
        "\n",
        "round(56.733) #四捨五入\n",
        "round(56.733,ndigits=1) #顯示小數點一位"
      ]
    }
  ],
  "metadata": {
    "colab": {
      "authorship_tag": "ABX9TyPxK/hhgdaTxo2lzeb1fkxI",
      "include_colab_link": true,
      "provenance": []
    },
    "kernelspec": {
      "display_name": "base",
      "language": "python",
      "name": "python3"
    },
    "language_info": {
      "name": "python",
      "version": "3.12.7"
    }
  },
  "nbformat": 4,
  "nbformat_minor": 0
}
