{
  "nbformat": 4,
  "nbformat_minor": 0,
  "metadata": {
    "colab": {
      "provenance": [],
      "authorship_tag": "ABX9TyPxK/hhgdaTxo2lzeb1fkxI",
      "include_colab_link": true
    },
    "kernelspec": {
      "name": "python3",
      "display_name": "Python 3"
    },
    "language_info": {
      "name": "python"
    }
  },
  "cells": [
    {
      "cell_type": "markdown",
      "metadata": {
        "id": "view-in-github",
        "colab_type": "text"
      },
      "source": [
        "<a href=\"https://colab.research.google.com/github/peipei920201/250413/blob/main/lesson1_%E5%9E%8B%E5%88%A5%26%E9%81%8B%E7%AE%97%E5%AD%90.ipynb\" target=\"_parent\"><img src=\"https://colab.research.google.com/assets/colab-badge.svg\" alt=\"Open In Colab\"/></a>"
      ]
    },
    {
      "cell_type": "code",
      "execution_count": 1,
      "metadata": {
        "colab": {
          "base_uri": "https://localhost:8080/"
        },
        "id": "V3fQw6gyz7T3",
        "outputId": "f4efde04-f71a-4319-c6cb-64b8b943c73a"
      },
      "outputs": [
        {
          "output_type": "stream",
          "name": "stdout",
          "text": [
            "Hello World!\n"
          ]
        }
      ],
      "source": [
        "print(\"Hello World!\")"
      ]
    },
    {
      "cell_type": "markdown",
      "source": [
        "### python資料型別\n",
        "- int\n",
        "- float\n",
        "- str\n",
        "- bool\n"
      ],
      "metadata": {
        "id": "pFQDq2NqDTmz"
      }
    },
    {
      "cell_type": "code",
      "source": [
        "10 #整數int\n",
        "10.0 #浮點數float\n",
        "\"10.0\" #字串str\n",
        "'10.0' #字串str\n",
        "True #布林值bool\n",
        "False #布林值bool"
      ],
      "metadata": {
        "colab": {
          "base_uri": "https://localhost:8080/"
        },
        "id": "yP67thrYD2Xi",
        "outputId": "c04a61ed-9d18-4491-f1e5-709f0212d86f"
      },
      "execution_count": 3,
      "outputs": [
        {
          "output_type": "execute_result",
          "data": {
            "text/plain": [
              "False"
            ]
          },
          "metadata": {},
          "execution_count": 3
        }
      ]
    },
    {
      "cell_type": "markdown",
      "source": [
        "###基礎運算子"
      ],
      "metadata": {
        "id": "AFmvujLLRo1l"
      }
    },
    {
      "cell_type": "code",
      "source": [
        "print(1+2)\n",
        "print(1+2.2) #自動轉成浮點數型別\n",
        "print(\"19\"+\"20\")\n",
        "display(\"19\"+\"20\")\n",
        "#print(\"19\"+20)錯誤"
      ],
      "metadata": {
        "colab": {
          "base_uri": "https://localhost:8080/",
          "height": 87
        },
        "id": "ERl9Q8e3Kc2t",
        "outputId": "4a33b515-32ad-4e95-cfeb-5ccb9c4d7a25"
      },
      "execution_count": 9,
      "outputs": [
        {
          "output_type": "stream",
          "name": "stdout",
          "text": [
            "3\n",
            "3.2\n",
            "1920\n"
          ]
        },
        {
          "output_type": "display_data",
          "data": {
            "text/plain": [
              "'1920'"
            ],
            "application/vnd.google.colaboratory.intrinsic+json": {
              "type": "string"
            }
          },
          "metadata": {}
        }
      ]
    },
    {
      "cell_type": "code",
      "source": [
        "5+8\n",
        "5-8\n",
        "5*8\n",
        "8/5 #浮點數除法\n",
        "8//5 #整數除法\n",
        "8%5 #餘數\n",
        "8**5 #次方"
      ],
      "metadata": {
        "id": "RClNEmnOREav"
      },
      "execution_count": null,
      "outputs": []
    },
    {
      "cell_type": "code",
      "source": [
        "99**99"
      ],
      "metadata": {
        "colab": {
          "base_uri": "https://localhost:8080/"
        },
        "id": "zFxoCb6XQxKQ",
        "outputId": "050e0bb9-26d5-4e2d-de71-cc8341a92860"
      },
      "execution_count": 10,
      "outputs": [
        {
          "output_type": "execute_result",
          "data": {
            "text/plain": [
              "369729637649726772657187905628805440595668764281741102430259972423552570455277523421410650010128232727940978889548326540119429996769494359451621570193644014418071060667659301384999779999159200499899"
            ]
          },
          "metadata": {},
          "execution_count": 10
        }
      ]
    },
    {
      "cell_type": "markdown",
      "source": [
        "###一個運算子一個動作\n",
        "###數學運算子有優先順序\n",
        "### **次方 > *乘號"
      ],
      "metadata": {
        "id": "jH5X7vvzSAVT"
      }
    },
    {
      "cell_type": "code",
      "source": [
        "print(2*(1+2)**2-2**2*2)"
      ],
      "metadata": {
        "colab": {
          "base_uri": "https://localhost:8080/"
        },
        "id": "w6-g1xfNR_Nj",
        "outputId": "7fe7b973-4654-4283-d303-39f70f747ad8"
      },
      "execution_count": 11,
      "outputs": [
        {
          "output_type": "stream",
          "name": "stdout",
          "text": [
            "10\n"
          ]
        }
      ]
    },
    {
      "cell_type": "markdown",
      "source": [
        "###內建的function(函式) = 標準函式庫\n",
        "###print()\n",
        "print (*object,sep='',end='\\n',file=None,flush=False)"
      ],
      "metadata": {
        "id": "zPi0Q9boUvTw"
      }
    },
    {
      "cell_type": "code",
      "source": [
        "print(15,27.0,'pei',True,3**4)\n",
        "\n",
        "round(56.733) #四捨五入\n",
        "round(56.733,ndigits=1) #顯示小數點一位"
      ],
      "metadata": {
        "colab": {
          "base_uri": "https://localhost:8080/"
        },
        "id": "adQuAOgLWGSz",
        "outputId": "d1865678-4d10-4644-d557-f14ba6a8a0f3"
      },
      "execution_count": 20,
      "outputs": [
        {
          "output_type": "stream",
          "name": "stdout",
          "text": [
            "15 27.0 pei True 81\n"
          ]
        },
        {
          "output_type": "execute_result",
          "data": {
            "text/plain": [
              "56.7"
            ]
          },
          "metadata": {},
          "execution_count": 20
        }
      ]
    }
  ]
}